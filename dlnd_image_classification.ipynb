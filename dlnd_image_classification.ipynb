{
 "cells": [
  {
   "cell_type": "markdown",
   "metadata": {
    "collapsed": true
   },
   "source": [
    "# Image Classification\n",
    "In this project, you'll classify images from the [CIFAR-10 dataset](https://www.cs.toronto.edu/~kriz/cifar.html).  The dataset consists of airplanes, dogs, cats, and other objects. You'll preprocess the images, then train a convolutional neural network on all the samples. The images need to be normalized and the labels need to be one-hot encoded.  You'll get to apply what you learned and build a convolutional, max pooling, dropout, and fully connected layers.  At the end, you'll get to see your neural network's predictions on the sample images.\n",
    "## Get the Data\n",
    "Run the following cell to download the [CIFAR-10 dataset for python](https://www.cs.toronto.edu/~kriz/cifar-10-python.tar.gz)."
   ]
  },
  {
   "cell_type": "code",
   "execution_count": null,
   "metadata": {},
   "outputs": [],
   "source": [
    "\"\"\"\n",
    "DON'T MODIFY ANYTHING IN THIS CELL THAT IS BELOW THIS LINE\n",
    "\"\"\"\n",
    "from urllib.request import urlretrieve\n",
    "from os.path import isfile, isdir\n",
    "from tqdm import tqdm\n",
    "import problem_unittests as tests\n",
    "import tarfile\n",
    "\n",
    "cifar10_dataset_folder_path = 'cifar-10-batches-py'\n",
    "\n",
    "class DLProgress(tqdm):\n",
    "    last_block = 0\n",
    "\n",
    "    def hook(self, block_num=1, block_size=1, total_size=None):\n",
    "        self.total = total_size\n",
    "        self.update((block_num - self.last_block) * block_size)\n",
    "        self.last_block = block_num\n",
    "\n",
    "if not isfile('cifar-10-python.tar.gz'):\n",
    "    with DLProgress(unit='B', unit_scale=True, miniters=1, desc='CIFAR-10 Dataset') as pbar:\n",
    "        urlretrieve(\n",
    "            'https://www.cs.toronto.edu/~kriz/cifar-10-python.tar.gz',\n",
    "            'cifar-10-python.tar.gz',\n",
    "            pbar.hook)\n",
    "\n",
    "if not isdir(cifar10_dataset_folder_path):\n",
    "    with tarfile.open('cifar-10-python.tar.gz') as tar:\n",
    "        tar.extractall()\n",
    "        tar.close()\n",
    "\n",
    "\n",
    "tests.test_folder_path(cifar10_dataset_folder_path)"
   ]
  },
  {
   "cell_type": "markdown",
   "metadata": {},
   "source": [
    "## Explore the Data\n",
    "The dataset is broken into batches to prevent your machine from running out of memory.  The CIFAR-10 dataset consists of 5 batches, named `data_batch_1`, `data_batch_2`, etc.. Each batch contains the labels and images that are one of the following:\n",
    "* airplane\n",
    "* automobile\n",
    "* bird\n",
    "* cat\n",
    "* deer\n",
    "* dog\n",
    "* frog\n",
    "* horse\n",
    "* ship\n",
    "* truck\n",
    "\n",
    "Understanding a dataset is part of making predictions on the data.  Play around with the code cell below by changing the `batch_id` and `sample_id`. The `batch_id` is the id for a batch (1-5). The `sample_id` is the id for a image and label pair in the batch.\n",
    "\n",
    "Ask yourself \"What are all possible labels?\", \"What is the range of values for the image data?\", \"Are the labels in order or random?\".  Answers to questions like these will help you preprocess the data and end up with better predictions."
   ]
  },
  {
   "cell_type": "code",
   "execution_count": 5,
   "metadata": {},
   "outputs": [
    {
     "name": "stdout",
     "output_type": "stream",
     "text": [
      "\n",
      "Stats of batch 4:\n",
      "Samples: 10000\n",
      "Label Counts: {0: 1003, 1: 963, 2: 1041, 3: 976, 4: 1004, 5: 1021, 6: 1004, 7: 981, 8: 1024, 9: 983}\n",
      "First 20 Labels: [0, 6, 0, 2, 7, 2, 1, 2, 4, 1, 5, 6, 6, 3, 1, 3, 5, 5, 8, 1]\n",
      "\n",
      "Example of Image 100:\n",
      "Image - Min Value: 8 Max Value: 211\n",
      "Image - Shape: (32, 32, 3)\n",
      "Label - Label Id: 6 Name: frog\n"
     ]
    },
    {
     "data": {
      "image/png": "[encoded data removed]",
      "text/plain": [
       "<Figure size 432x288 with 1 Axes>"
      ]
     },
     "metadata": {
      "image/png": {
       "height": 250,
       "width": 253
      }
     },
     "output_type": "display_data"
    }
   ],
   "source": [
    "%matplotlib inline\n",
    "%config InlineBackend.figure_format = 'retina'\n",
    "\n",
    "import helper\n",
    "import numpy as np\n",
    "\n",
    "# Explore the dataset\n",
    "batch_id = 4 \n",
    "sample_id = 100\n",
    "helper.display_stats(cifar10_dataset_folder_path, batch_id, sample_id)"
   ]
  },
  {
   "cell_type": "markdown",
   "metadata": {},
   "source": [
    "## Implement Preprocess Functions\n",
    "### Normalize\n",
    "In the cell below, implement the `normalize` function to take in image data, `x`, and return it as a normalized Numpy array. The values should be in the range of 0 to 1, inclusive.  The return object should be the same shape as `x`."
   ]
  },
  {
   "cell_type": "code",
   "execution_count": 6,
   "metadata": {},
   "outputs": [
    {
     "name": "stdout",
     "output_type": "stream",
     "text": [
      "Tests Passed\n"
     ]
    }
   ],
   "source": [
    "def normalize(x):\n",
    "    \"\"\"\n",
    "    Normalize a list of sample image data in the range of 0 to 1\n",
    "    : x: List of image data.  The image shape is (32, 32, 3)\n",
    "    : return: Numpy array of normalize data\n",
    "    \"\"\"\n",
    "    # TODO: Implement Function\n",
    "    min_value = np.min(x)\n",
    "    max_value = np.max(x)\n",
    "    x = (x - min_value) / (max_value - min_value)\n",
    "    return x\n",
    "\n",
    "\n",
    "\"\"\"\n",
    "DON'T MODIFY ANYTHING IN THIS CELL THAT IS BELOW THIS LINE\n",
    "\"\"\"\n",
    "tests.test_normalize(normalize)"
   ]
  },
  {
   "cell_type": "markdown",
   "metadata": {},
   "source": [
    "### One-hot encode\n",
    "Just like the previous code cell, you'll be implementing a function for preprocessing.  This time, you'll implement the `one_hot_encode` function. The input, `x`, are a list of labels.  Implement the function to return the list of labels as One-Hot encoded Numpy array.  The possible values for labels are 0 to 9. The one-hot encoding function should return the same encoding for each value between each call to `one_hot_encode`.  Make sure to save the map of encodings outside the function.\n",
    "\n",
    "**Hint:**\n",
    "\n",
    "Look into LabelBinarizer in the preprocessing module of sklearn."
   ]
  },
  {
   "cell_type": "code",
   "execution_count": 29,
   "metadata": {},
   "outputs": [
    {
     "name": "stdout",
     "output_type": "stream",
     "text": [
      "Tests Passed\n"
     ]
    }
   ],
   "source": [
    "def one_hot_encode(x):\n",
    "    \"\"\"\n",
    "    One hot encode a list of sample labels. Return a one-hot encoded vector for each label.\n",
    "    : x: List of sample Labels\n",
    "    : return: Numpy array of one-hot encoded labels\n",
    "    \"\"\"\n",
    "    # TODO: Implement Function\n",
    "    # print(x)\n",
    "    encoded = np.zeros((len(x), 10))\n",
    "    #print(encoded)\n",
    "    #print(len(encoded))\n",
    "    for index, value in enumerate(x):\n",
    "        encoded[index][value] = 1\n",
    "        #print(val)\n",
    "    # print(len(encoded))\n",
    "    return encoded\n",
    "\n",
    "\n",
    "\"\"\"\n",
    "DON'T MODIFY ANYTHING IN THIS CELL THAT IS BELOW THIS LINE\n",
    "\"\"\"\n",
    "tests.test_one_hot_encode(one_hot_encode)"
   ]
  },
  {
   "cell_type": "markdown",
   "metadata": {},
   "source": [
    "### Randomize Data\n",
    "As you saw from exploring the data above, the order of the samples are randomized.  It doesn't hurt to randomize it again, but you don't need to for this dataset."
   ]
  },
  {
   "cell_type": "markdown",
   "metadata": {},
   "source": [
    "## Preprocess all the data and save it\n",
    "Running the code cell below will preprocess all the CIFAR-10 data and save it to file. The code below also uses 10% of the training data for validation."
   ]
  },
  {
   "cell_type": "code",
   "execution_count": 30,
   "metadata": {},
   "outputs": [],
   "source": [
    "\"\"\"\n",
    "DON'T MODIFY ANYTHING IN THIS CELL\n",
    "\"\"\"\n",
    "# Preprocess Training, Validation, and Testing Data\n",
    "helper.preprocess_and_save_data(cifar10_dataset_folder_path, normalize, one_hot_encode)"
   ]
  },
  {
   "cell_type": "markdown",
   "metadata": {},
   "source": [
    "# Check Point\n",
    "This is your first checkpoint.  If you ever decide to come back to this notebook or have to restart the notebook, you can start from here.  The preprocessed data has been saved to disk."
   ]
  },
  {
   "cell_type": "code",
   "execution_count": 1,
   "metadata": {},
   "outputs": [
    {
     "name": "stderr",
     "output_type": "stream",
     "text": [
      "/home/ajay/anaconda3/lib/python3.6/site-packages/h5py/__init__.py:36: FutureWarning: Conversion of the second argument of issubdtype from `float` to `np.floating` is deprecated. In future, it will be treated as `np.float64 == np.dtype(float).type`.\n",
      "  from ._conv import register_converters as _register_converters\n"
     ]
    }
   ],
   "source": [
    "\"\"\"\n",
    "DON'T MODIFY ANYTHING IN THIS CELL\n",
    "\"\"\"\n",
    "import pickle\n",
    "import problem_unittests as tests\n",
    "import helper\n",
    "\n",
    "# Load the Preprocessed Validation data\n",
    "valid_features, valid_labels = pickle.load(open('preprocess_validation.p', mode='rb'))"
   ]
  },
  {
   "cell_type": "markdown",
   "metadata": {},
   "source": [
    "## Build the network\n",
    "For the neural network, you'll build each layer into a function.  Most of the code you've seen has been outside of functions. To test your code more thoroughly, we require that you put each layer in a function.  This allows us to give you better feedback and test for simple mistakes using our unittests before you submit your project.\n",
    "\n",
    ">**Note:** If you're finding it hard to dedicate enough time for this course each week, we've provided a small shortcut to this part of the project. In the next couple of problems, you'll have the option to use classes from the [TensorFlow Layers](https://www.tensorflow.org/api_docs/python/tf/layers) or [TensorFlow Layers (contrib)](https://www.tensorflow.org/api_guides/python/contrib.layers) packages to build each layer, except the layers you build in the \"Convolutional and Max Pooling Layer\" section.  TF Layers is similar to Keras's and TFLearn's abstraction to layers, so it's easy to pickup.\n",
    "\n",
    ">However, if you would like to get the most out of this course, try to solve all the problems _without_ using anything from the TF Layers packages. You **can** still use classes from other packages that happen to have the same name as ones you find in TF Layers! For example, instead of using the TF Layers version of the `conv2d` class, [tf.layers.conv2d](https://www.tensorflow.org/api_docs/python/tf/layers/conv2d), you would want to use the TF Neural Network version of `conv2d`, [tf.nn.conv2d](https://www.tensorflow.org/api_docs/python/tf/nn/conv2d). \n",
    "\n",
    "Let's begin!\n",
    "\n",
    "### Input\n",
    "The neural network needs to read the image data, one-hot encoded labels, and dropout keep probability. Implement the following functions\n",
    "* Implement `neural_net_image_input`\n",
    " * Return a [TF Placeholder](https://www.tensorflow.org/api_docs/python/tf/placeholder)\n",
    " * Set the shape using `image_shape` with batch size set to `None`.\n",
    " * Name the TensorFlow placeholder \"x\" using the TensorFlow `name` parameter in the [TF Placeholder](https://www.tensorflow.org/api_docs/python/tf/placeholder).\n",
    "* Implement `neural_net_label_input`\n",
    " * Return a [TF Placeholder](https://www.tensorflow.org/api_docs/python/tf/placeholder)\n",
    " * Set the shape using `n_classes` with batch size set to `None`.\n",
    " * Name the TensorFlow placeholder \"y\" using the TensorFlow `name` parameter in the [TF Placeholder](https://www.tensorflow.org/api_docs/python/tf/placeholder).\n",
    "* Implement `neural_net_keep_prob_input`\n",
    " * Return a [TF Placeholder](https://www.tensorflow.org/api_docs/python/tf/placeholder) for dropout keep probability.\n",
    " * Name the TensorFlow placeholder \"keep_prob\" using the TensorFlow `name` parameter in the [TF Placeholder](https://www.tensorflow.org/api_docs/python/tf/placeholder).\n",
    "\n",
    "These names will be used at the end of the project to load your saved model.\n",
    "\n",
    "Note: `None` for shapes in TensorFlow allow for a dynamic size."
   ]
  },
  {
   "cell_type": "code",
   "execution_count": 2,
   "metadata": {},
   "outputs": [
    {
     "name": "stdout",
     "output_type": "stream",
     "text": [
      "Image Input Tests Passed.\n",
      "Label Input Tests Passed.\n",
      "Keep Prob Tests Passed.\n"
     ]
    }
   ],
   "source": [
    "import tensorflow as tf\n",
    "\n",
    "def neural_net_image_input(image_shape):\n",
    "    \"\"\"\n",
    "    Return a Tensor for a batch of image input\n",
    "    : image_shape: Shape of the images\n",
    "    : return: Tensor for image input.\n",
    "    \"\"\"\n",
    "    # TODO: Implement Function\n",
    "    # Image_shape = 32 32 3\n",
    "    #[None] + list(image_shape)\n",
    "    return tf.placeholder(tf.float32, [None] + list(image_shape), name = 'x')\n",
    "\n",
    "\n",
    "def neural_net_label_input(n_classes):\n",
    "    \"\"\"\n",
    "    Return a Tensor for a batch of label input\n",
    "    : n_classes: Number of classes\n",
    "    : return: Tensor for label input.\n",
    "    \"\"\"\n",
    "    # TODO: Implement Function\n",
    "    # Number of classes 10    \n",
    "    return tf.placeholder(tf.float32, [None, n_classes], name = 'y')\n",
    "\n",
    "\n",
    "def neural_net_keep_prob_input():\n",
    "    \"\"\"\n",
    "    Return a Tensor for keep probability\n",
    "    : return: Tensor for keep probability.\n",
    "    \"\"\"\n",
    "    # TODO: Implement Function\n",
    "    return tf.placeholder(tf.float32, name='keep_prob')\n",
    "\n",
    "\n",
    "\"\"\"\n",
    "DON'T MODIFY ANYTHING IN THIS CELL THAT IS BELOW THIS LINE\n",
    "\"\"\"\n",
    "tf.reset_default_graph()\n",
    "tests.test_nn_image_inputs(neural_net_image_input)\n",
    "tests.test_nn_label_inputs(neural_net_label_input)\n",
    "tests.test_nn_keep_prob_inputs(neural_net_keep_prob_input)"
   ]
  },
  {
   "cell_type": "markdown",
   "metadata": {},
   "source": [
    "### Convolution and Max Pooling Layer\n",
    "Convolution layers have a lot of success with images. For this code cell, you should implement the function `conv2d_maxpool` to apply convolution then max pooling:\n",
    "* Create the weight and bias using `conv_ksize`, `conv_num_outputs` and the shape of `x_tensor`.\n",
    "* Apply a convolution to `x_tensor` using weight and `conv_strides`.\n",
    " * We recommend you use same padding, but you're welcome to use any padding.\n",
    "* Add bias\n",
    "* Add a nonlinear activation to the convolution.\n",
    "* Apply Max Pooling using `pool_ksize` and `pool_strides`.\n",
    " * We recommend you use same padding, but you're welcome to use any padding.\n",
    "\n",
    "**Note:** You **can't** use [TensorFlow Layers](https://www.tensorflow.org/api_docs/python/tf/layers) or [TensorFlow Layers (contrib)](https://www.tensorflow.org/api_guides/python/contrib.layers) for **this** layer, but you can still use TensorFlow's [Neural Network](https://www.tensorflow.org/api_docs/python/tf/nn) package. You may still use the shortcut option for all the **other** layers.\n",
    "\n",
    "** Hint: **\n",
    "\n",
    "When unpacking values as an argument in Python, look into the [unpacking](https://docs.python.org/3/tutorial/controlflow.html#unpacking-argument-lists) operator. "
   ]
  },
  {
   "cell_type": "code",
   "execution_count": 3,
   "metadata": {},
   "outputs": [
    {
     "name": "stdout",
     "output_type": "stream",
     "text": [
      "Tests Passed\n"
     ]
    }
   ],
   "source": [
    "def conv2d_maxpool(x_tensor, conv_num_outputs, conv_ksize, conv_strides, pool_ksize, pool_strides):\n",
    "    \"\"\"\n",
    "    Apply convolution then max pooling to x_tensor\n",
    "    :param x_tensor: TensorFlow Tensor\n",
    "    :param conv_num_outputs: Number of outputs for the convolutional layer\n",
    "    :param conv_ksize: kernal size 2-D Tuple for the convolutional layer\n",
    "    :param conv_strides: Stride 2-D Tuple for convolution\n",
    "    :param pool_ksize: kernal size 2-D Tuple for pool\n",
    "    :param pool_strides: Stride 2-D Tuple for pool\n",
    "    : return: A tensor that represents convolution and max pooling of x_tensor\n",
    "    \"\"\"\n",
    "    # TODO: Implement Function\n",
    "    '''\n",
    "    print(x_tensor)\n",
    "    print(conv_num_outputs)\n",
    "    print(conv_ksize)\n",
    "    print(conv_strides)\n",
    "    print(pool_ksize)\n",
    "    print(pool_strides)\n",
    "    '''\n",
    "    weight = tf.Variable(tf.random_normal(list(conv_ksize) + [x_tensor.get_shape().as_list()[3], conv_num_outputs],stddev=0.1))\n",
    "    bias = tf.Variable(tf.zeros(conv_num_outputs))\n",
    "    convolution_layer = tf.nn.conv2d(x_tensor, weight, strides=[1, conv_strides[0], conv_strides[1], 1], padding='SAME')\n",
    "    convolution_layer = tf.nn.bias_add(convolution_layer, bias)\n",
    "    convolution_layer = tf.nn.relu(convolution_layer)\n",
    "    convolution_layer = tf.nn.max_pool(convolution_layer, ksize=[1, pool_ksize[0], pool_ksize[1], 1], \n",
    "                                strides=[1, pool_strides[0], pool_strides[1], 1],\n",
    "                                padding='SAME')\n",
    "    return convolution_layer \n",
    "\n",
    "\n",
    "\"\"\"\n",
    "DON'T MODIFY ANYTHING IN THIS CELL THAT IS BELOW THIS LINE\n",
    "\"\"\"\n",
    "tests.test_con_pool(conv2d_maxpool)"
   ]
  },
  {
   "cell_type": "markdown",
   "metadata": {},
   "source": [
    "### Flatten Layer\n",
    "Implement the `flatten` function to change the dimension of `x_tensor` from a 4-D tensor to a 2-D tensor.  The output should be the shape (*Batch Size*, *Flattened Image Size*). Shortcut option: you can use classes from the [TensorFlow Layers](https://www.tensorflow.org/api_docs/python/tf/layers) or [TensorFlow Layers (contrib)](https://www.tensorflow.org/api_guides/python/contrib.layers) packages for this layer. For more of a challenge, only use other TensorFlow packages."
   ]
  },
  {
   "cell_type": "code",
   "execution_count": 4,
   "metadata": {},
   "outputs": [
    {
     "name": "stdout",
     "output_type": "stream",
     "text": [
      "Tests Passed\n"
     ]
    }
   ],
   "source": [
    "def flatten(x_tensor):\n",
    "    \"\"\"\n",
    "    Flatten x_tensor to (Batch Size, Flattened Image Size)\n",
    "    : x_tensor: A tensor of size (Batch Size, ...), where ... are the image dimensions.\n",
    "    : return: A tensor of size (Batch Size, Flattened Image Size).\n",
    "    \"\"\"\n",
    "    # TODO: Implement Function\n",
    "    # Shortcut Approach\n",
    "    # tf.contrib.layers.flatten(x_tensor)\n",
    "    \n",
    "    flattened_image_size = x_tensor.shape[1] * x_tensor.shape[2] * x_tensor.shape[3]\n",
    "    #print(flattened_image_size)\n",
    "    return tf.reshape(x_tensor, [tf.shape(x_tensor)[0], flattened_image_size])\n",
    "\n",
    "\n",
    "\"\"\"\n",
    "DON'T MODIFY ANYTHING IN THIS CELL THAT IS BELOW THIS LINE\n",
    "\"\"\"\n",
    "tests.test_flatten(flatten)"
   ]
  },
  {
   "cell_type": "markdown",
   "metadata": {},
   "source": [
    "### Fully-Connected Layer\n",
    "Implement the `fully_conn` function to apply a fully connected layer to `x_tensor` with the shape (*Batch Size*, *num_outputs*). Shortcut option: you can use classes from the [TensorFlow Layers](https://www.tensorflow.org/api_docs/python/tf/layers) or [TensorFlow Layers (contrib)](https://www.tensorflow.org/api_guides/python/contrib.layers) packages for this layer. For more of a challenge, only use other TensorFlow packages."
   ]
  },
  {
   "cell_type": "code",
   "execution_count": 14,
   "metadata": {},
   "outputs": [
    {
     "name": "stdout",
     "output_type": "stream",
     "text": [
      "Tests Passed\n"
     ]
    }
   ],
   "source": [
    "def fully_conn(x_tensor, num_outputs):\n",
    "    \"\"\"\n",
    "    Apply a fully connected layer to x_tensor using weight and bias\n",
    "    : x_tensor: A 2-D tensor where the first dimension is batch size.\n",
    "    : num_outputs: The number of output that the new tensor should be.\n",
    "    : return: A 2-D tensor where the second dimension is num_outputs.\n",
    "    \"\"\"\n",
    "    # TODO: Implement Function\n",
    "    # Shortcut Aproaach\n",
    "    # tf.contrib.layers.fully_connected(x_tensor, num_outputs, tf.nn.relu)\n",
    "    \n",
    "    feature = (x_tensor.shape[1].value)\n",
    "    weights = tf.Variable(tf.truncated_normal([feature, num_outputs], stddev=0.04))\n",
    "    bias = tf.Variable(tf.zeros([num_outputs]))\n",
    "    return tf.nn.relu(tf.add(tf.matmul(x_tensor, weights), bias))\n",
    "\n",
    "\n",
    "\"\"\"\n",
    "DON'T MODIFY ANYTHING IN THIS CELL THAT IS BELOW THIS LINE\n",
    "\"\"\"\n",
    "tests.test_fully_conn(fully_conn)"
   ]
  },
  {
   "cell_type": "markdown",
   "metadata": {},
   "source": [
    "### Output Layer\n",
    "Implement the `output` function to apply a fully connected layer to `x_tensor` with the shape (*Batch Size*, *num_outputs*). Shortcut option: you can use classes from the [TensorFlow Layers](https://www.tensorflow.org/api_docs/python/tf/layers) or [TensorFlow Layers (contrib)](https://www.tensorflow.org/api_guides/python/contrib.layers) packages for this layer. For more of a challenge, only use other TensorFlow packages.\n",
    "\n",
    "**Note:** Activation, softmax, or cross entropy should **not** be applied to this."
   ]
  },
  {
   "cell_type": "code",
   "execution_count": 18,
   "metadata": {},
   "outputs": [
    {
     "name": "stdout",
     "output_type": "stream",
     "text": [
      "Tests Passed\n"
     ]
    }
   ],
   "source": [
    "def output(x_tensor, num_outputs):\n",
    "    \"\"\"\n",
    "    Apply a output layer to x_tensor using weight and bias\n",
    "    : x_tensor: A 2-D tensor where the first dimension is batch size.\n",
    "    : num_outputs: The number of output that the new tensor should be.\n",
    "    : return: A 2-D tensor where the second dimension is num_outputs.\n",
    "    \"\"\"\n",
    "    # TODO: Implement Function\n",
    "    # Shortcut Option\n",
    "    # tf.contrib.layers.fully_connected(x_tensor, num_outputs)\n",
    "    feature = (x_tensor.shape[1].value)\n",
    "    weights = tf.Variable(tf.truncated_normal([feature, num_outputs], stddev=0.04))\n",
    "    bias = tf.Variable(tf.zeros([num_outputs]))\n",
    "    return tf.add(tf.matmul(x_tensor, weights), bias)\n",
    "\n",
    "\n",
    "\"\"\"\n",
    "DON'T MODIFY ANYTHING IN THIS CELL THAT IS BELOW THIS LINE\n",
    "\"\"\"\n",
    "tests.test_output(output)"
   ]
  },
  {
   "cell_type": "markdown",
   "metadata": {},
   "source": [
    "### Create Convolutional Model\n",
    "Implement the function `conv_net` to create a convolutional neural network model. The function takes in a batch of images, `x`, and outputs logits.  Use the layers you created above to create this model:\n",
    "\n",
    "* Apply 1, 2, or 3 Convolution and Max Pool layers\n",
    "* Apply a Flatten Layer\n",
    "* Apply 1, 2, or 3 Fully Connected Layers\n",
    "* Apply an Output Layer\n",
    "* Return the output\n",
    "* Apply [TensorFlow's Dropout](https://www.tensorflow.org/api_docs/python/tf/nn/dropout) to one or more layers in the model using `keep_prob`. "
   ]
  },
  {
   "cell_type": "code",
   "execution_count": 41,
   "metadata": {
    "scrolled": true
   },
   "outputs": [
    {
     "name": "stdout",
     "output_type": "stream",
     "text": [
      "Tensor(\"MaxPool_2:0\", shape=(?, 4, 4, 32), dtype=float32)\n",
      "Tensor(\"Reshape:0\", shape=(?, 512), dtype=float32)\n",
      "Tensor(\"MaxPool_5:0\", shape=(?, 4, 4, 32), dtype=float32)\n",
      "Tensor(\"Reshape_1:0\", shape=(?, 512), dtype=float32)\n",
      "Neural Network Built!\n"
     ]
    }
   ],
   "source": [
    "def conv_net(x, keep_prob):\n",
    "    \"\"\"\n",
    "    Create a convolutional neural network model\n",
    "    : x: Placeholder tensor that holds image data.\n",
    "    : keep_prob: Placeholder tensor that hold dropout keep probability.\n",
    "    : return: Tensor that represents logits\n",
    "    \"\"\"\n",
    "    # TODO: Apply 1, 2, or 3 Convolution and Max Pool layers\n",
    "    #    Play around with different number of outputs, kernel size and stride\n",
    "    # Function Definition from Above:\n",
    "    #    conv2d_maxpool(x_tensor, conv_num_outputs, conv_ksize, conv_strides, pool_ksize, pool_strides)\n",
    "    conv = conv2d_maxpool(x, 8, (5, 5), (1, 1), (2, 2), (2, 2))\n",
    "    conv = conv2d_maxpool(conv, 16, (5, 5), (1, 1), (2, 2), (2, 2))\n",
    "    conv = conv2d_maxpool(conv, 32, (5, 5), (1, 1), (2, 2), (2, 2))\n",
    "    print(conv)\n",
    "    # TODO: Apply a Flatten Layer\n",
    "    # Function Definition from Above:\n",
    "    #   flatten(x_tensor)\n",
    "    conv_flatten = flatten(conv)\n",
    "    print(conv_flatten)\n",
    "    # TODO: Apply 1, 2, or 3 Fully Connected Layers\n",
    "    #    Play around with different number of outputs\n",
    "    # Function Definition from Above:\n",
    "    #   fully_conn(x_tensor, num_outputs)\n",
    "    fully_conv = fully_conn(conv_flatten, 512)\n",
    "    fully_conv = tf.nn.dropout(fully_conv, keep_prob=keep_prob)\n",
    "    fully_conv = fully_conn(fully_conv, 512)\n",
    "    fully_conv = tf.nn.dropout(fully_conv, keep_prob=keep_prob)\n",
    "    \n",
    "    \n",
    "    # TODO: Apply an Output Layer\n",
    "    #    Set this to the number of classes\n",
    "    # Function Definition from Above:\n",
    "    #   output(x_tensor, num_outputs)\n",
    "    output_conc = output(fully_conv, 10)\n",
    "\n",
    "    \n",
    "    # TODO: return output\n",
    "    return output_conc\n",
    "\n",
    "\n",
    "\"\"\"\n",
    "DON'T MODIFY ANYTHING IN THIS CELL THAT IS BELOW THIS LINE\n",
    "\"\"\"\n",
    "\n",
    "##############################\n",
    "## Build the Neural Network ##\n",
    "##############################\n",
    "\n",
    "# Remove previous weights, bias, inputs, etc..\n",
    "tf.reset_default_graph()\n",
    "\n",
    "# Inputs\n",
    "x = neural_net_image_input((32, 32, 3))\n",
    "y = neural_net_label_input(10)\n",
    "keep_prob = neural_net_keep_prob_input()\n",
    "\n",
    "# Model\n",
    "logits = conv_net(x, keep_prob)\n",
    "\n",
    "# Name logits Tensor, so that is can be loaded from disk after training\n",
    "logits = tf.identity(logits, name='logits')\n",
    "\n",
    "# Loss and Optimizer\n",
    "cost = tf.reduce_mean(tf.nn.softmax_cross_entropy_with_logits(logits=logits, labels=y))\n",
    "optimizer = tf.train.AdamOptimizer().minimize(cost)\n",
    "\n",
    "# Accuracy\n",
    "correct_pred = tf.equal(tf.argmax(logits, 1), tf.argmax(y, 1))\n",
    "accuracy = tf.reduce_mean(tf.cast(correct_pred, tf.float32), name='accuracy')\n",
    "\n",
    "tests.test_conv_net(conv_net)"
   ]
  },
  {
   "cell_type": "markdown",
   "metadata": {},
   "source": [
    "## Train the Neural Network\n",
    "### Single Optimization\n",
    "Implement the function `train_neural_network` to do a single optimization.  The optimization should use `optimizer` to optimize in `session` with a `feed_dict` of the following:\n",
    "* `x` for image input\n",
    "* `y` for labels\n",
    "* `keep_prob` for keep probability for dropout\n",
    "\n",
    "This function will be called for each batch, so `tf.global_variables_initializer()` has already been called.\n",
    "\n",
    "Note: Nothing needs to be returned. This function is only optimizing the neural network."
   ]
  },
  {
   "cell_type": "code",
   "execution_count": 42,
   "metadata": {},
   "outputs": [
    {
     "name": "stdout",
     "output_type": "stream",
     "text": [
      "Tests Passed\n"
     ]
    }
   ],
   "source": [
    "def train_neural_network(session, optimizer, keep_probability, feature_batch, label_batch):\n",
    "    \"\"\"\n",
    "    Optimize the session on a batch of images and labels\n",
    "    : session: Current TensorFlow session\n",
    "    : optimizer: TensorFlow optimizer function\n",
    "    : keep_probability: keep probability\n",
    "    : feature_batch: Batch of Numpy image data\n",
    "    : label_batch: Batch of Numpy label data\n",
    "    \"\"\"\n",
    "    # TODO: Implement Function\n",
    "    session.run(optimizer, feed_dict={x:feature_batch, y:label_batch, keep_prob:keep_probability})\n",
    "\n",
    "\n",
    "\"\"\"\n",
    "DON'T MODIFY ANYTHING IN THIS CELL THAT IS BELOW THIS LINE\n",
    "\"\"\"\n",
    "tests.test_train_nn(train_neural_network)"
   ]
  },
  {
   "cell_type": "markdown",
   "metadata": {},
   "source": [
    "### Show Stats\n",
    "Implement the function `print_stats` to print loss and validation accuracy.  Use the global variables `valid_features` and `valid_labels` to calculate validation accuracy.  Use a keep probability of `1.0` to calculate the loss and validation accuracy."
   ]
  },
  {
   "cell_type": "code",
   "execution_count": 47,
   "metadata": {},
   "outputs": [],
   "source": [
    "def print_stats(session, feature_batch, label_batch, cost, accuracy):\n",
    "    \"\"\"\n",
    "    Print information about loss and validation accuracy\n",
    "    : session: Current TensorFlow session\n",
    "    : feature_batch: Batch of Numpy image data\n",
    "    : label_batch: Batch of Numpy label data\n",
    "    : cost: TensorFlow cost function\n",
    "    : accuracy: TensorFlow accuracy function\n",
    "    \"\"\"\n",
    "    # TODO: Implement Function\n",
    "    loss = sess.run(cost, feed_dict={x: feature_batch,y: label_batch,keep_prob: 1.0})\n",
    "    accuracy = sess.run(accuracy, feed_dict={x: valid_features,y: valid_labels,keep_prob: 1.0})\n",
    "    print('Loss={0} ValidationAccuracy={1}'.format(loss, accuracy))"
   ]
  },
  {
   "cell_type": "markdown",
   "metadata": {},
   "source": [
    "### Hyperparameters\n",
    "Tune the following parameters:\n",
    "* Set `epochs` to the number of iterations until the network stops learning or start overfitting\n",
    "* Set `batch_size` to the highest number that your machine has memory for.  Most people set them to common sizes of memory:\n",
    " * 64\n",
    " * 128\n",
    " * 256\n",
    " * ...\n",
    "* Set `keep_probability` to the probability of keeping a node using dropout"
   ]
  },
  {
   "cell_type": "code",
   "execution_count": 48,
   "metadata": {},
   "outputs": [],
   "source": [
    "# TODO: Tune Parameters\n",
    "epochs = 50\n",
    "batch_size = 128\n",
    "keep_probability = 0.8"
   ]
  },
  {
   "cell_type": "markdown",
   "metadata": {},
   "source": [
    "### Train on a Single CIFAR-10 Batch\n",
    "Instead of training the neural network on all the CIFAR-10 batches of data, let's use a single batch. This should save time while you iterate on the model to get a better accuracy.  Once the final validation accuracy is 50% or greater, run the model on all the data in the next section."
   ]
  },
  {
   "cell_type": "code",
   "execution_count": 50,
   "metadata": {},
   "outputs": [
    {
     "name": "stdout",
     "output_type": "stream",
     "text": [
      "Checking the Training on a Single Batch...\n",
      "Epoch  1, CIFAR-10 Batch 1:  Loss=1.9324359893798828 ValidationAccuracy=0.3653999865055084\n",
      "Epoch  2, CIFAR-10 Batch 1:  Loss=1.6916038990020752 ValidationAccuracy=0.4341999888420105\n",
      "Epoch  3, CIFAR-10 Batch 1:  Loss=1.5150184631347656 ValidationAccuracy=0.46299999952316284\n",
      "Epoch  4, CIFAR-10 Batch 1:  Loss=1.2839202880859375 ValidationAccuracy=0.49320000410079956\n",
      "Epoch  5, CIFAR-10 Batch 1:  Loss=1.1132854223251343 ValidationAccuracy=0.4986000061035156\n",
      "Epoch  6, CIFAR-10 Batch 1:  Loss=0.9868074655532837 ValidationAccuracy=0.5062000155448914\n",
      "Epoch  7, CIFAR-10 Batch 1:  Loss=0.8352851867675781 ValidationAccuracy=0.5162000060081482\n",
      "Epoch  8, CIFAR-10 Batch 1:  Loss=0.7240837812423706 ValidationAccuracy=0.520799994468689\n",
      "Epoch  9, CIFAR-10 Batch 1:  Loss=0.5537313222885132 ValidationAccuracy=0.5216000080108643\n",
      "Epoch 10, CIFAR-10 Batch 1:  Loss=0.5486137270927429 ValidationAccuracy=0.49239999055862427\n",
      "Epoch 11, CIFAR-10 Batch 1:  Loss=0.44892367720603943 ValidationAccuracy=0.5134000182151794\n",
      "Epoch 12, CIFAR-10 Batch 1:  Loss=0.35349565744400024 ValidationAccuracy=0.5230000019073486\n",
      "Epoch 13, CIFAR-10 Batch 1:  Loss=0.2408643215894699 ValidationAccuracy=0.5281999707221985\n",
      "Epoch 14, CIFAR-10 Batch 1:  Loss=0.26343855261802673 ValidationAccuracy=0.5224000215530396\n",
      "Epoch 15, CIFAR-10 Batch 1:  Loss=0.23026542365550995 ValidationAccuracy=0.5317999720573425\n",
      "Epoch 16, CIFAR-10 Batch 1:  Loss=0.16056540608406067 ValidationAccuracy=0.5166000127792358\n",
      "Epoch 17, CIFAR-10 Batch 1:  Loss=0.12133725732564926 ValidationAccuracy=0.5134000182151794\n",
      "Epoch 18, CIFAR-10 Batch 1:  Loss=0.14120645821094513 ValidationAccuracy=0.4957999885082245\n",
      "Epoch 19, CIFAR-10 Batch 1:  Loss=0.10101734101772308 ValidationAccuracy=0.4959999918937683\n",
      "Epoch 20, CIFAR-10 Batch 1:  Loss=0.08001235872507095 ValidationAccuracy=0.515999972820282\n",
      "Epoch 21, CIFAR-10 Batch 1:  Loss=0.06423598527908325 ValidationAccuracy=0.5185999870300293\n",
      "Epoch 22, CIFAR-10 Batch 1:  Loss=0.06902237981557846 ValidationAccuracy=0.5095999836921692\n",
      "Epoch 23, CIFAR-10 Batch 1:  Loss=0.049891598522663116 ValidationAccuracy=0.4851999878883362\n",
      "Epoch 24, CIFAR-10 Batch 1:  Loss=0.04300941154360771 ValidationAccuracy=0.5034000277519226\n",
      "Epoch 25, CIFAR-10 Batch 1:  Loss=0.022295070812106133 ValidationAccuracy=0.48500001430511475\n",
      "Epoch 26, CIFAR-10 Batch 1:  Loss=0.02817407250404358 ValidationAccuracy=0.508400022983551\n",
      "Epoch 27, CIFAR-10 Batch 1:  Loss=0.011921443976461887 ValidationAccuracy=0.5121999979019165\n",
      "Epoch 28, CIFAR-10 Batch 1:  Loss=0.013736223801970482 ValidationAccuracy=0.5185999870300293\n",
      "Epoch 29, CIFAR-10 Batch 1:  Loss=0.013203668408095837 ValidationAccuracy=0.5248000025749207\n",
      "Epoch 30, CIFAR-10 Batch 1:  Loss=0.03662145137786865 ValidationAccuracy=0.517799973487854\n",
      "Epoch 31, CIFAR-10 Batch 1:  Loss=0.021349947899580002 ValidationAccuracy=0.5099999904632568\n",
      "Epoch 32, CIFAR-10 Batch 1:  Loss=0.05643552541732788 ValidationAccuracy=0.5171999931335449\n",
      "Epoch 33, CIFAR-10 Batch 1:  Loss=0.01769692823290825 ValidationAccuracy=0.5135999917984009\n",
      "Epoch 34, CIFAR-10 Batch 1:  Loss=0.003323925193399191 ValidationAccuracy=0.5335999727249146\n",
      "Epoch 35, CIFAR-10 Batch 1:  Loss=0.006842697970569134 ValidationAccuracy=0.5221999883651733\n",
      "Epoch 36, CIFAR-10 Batch 1:  Loss=0.00360702583566308 ValidationAccuracy=0.5302000045776367\n",
      "Epoch 37, CIFAR-10 Batch 1:  Loss=0.011299830861389637 ValidationAccuracy=0.5234000086784363\n",
      "Epoch 38, CIFAR-10 Batch 1:  Loss=0.004742249846458435 ValidationAccuracy=0.5275999903678894\n",
      "Epoch 39, CIFAR-10 Batch 1:  Loss=0.003336207941174507 ValidationAccuracy=0.5239999890327454\n",
      "Epoch 40, CIFAR-10 Batch 1:  Loss=0.004251693841069937 ValidationAccuracy=0.5192000269889832\n",
      "Epoch 41, CIFAR-10 Batch 1:  Loss=0.0018419396365061402 ValidationAccuracy=0.5278000235557556\n",
      "Epoch 42, CIFAR-10 Batch 1:  Loss=0.0007613020134158432 ValidationAccuracy=0.5266000032424927\n",
      "Epoch 43, CIFAR-10 Batch 1:  Loss=0.0014458957593888044 ValidationAccuracy=0.5216000080108643\n",
      "Epoch 44, CIFAR-10 Batch 1:  Loss=0.0006335238576866686 ValidationAccuracy=0.5217999815940857\n",
      "Epoch 45, CIFAR-10 Batch 1:  Loss=0.0013621479738503695 ValidationAccuracy=0.5216000080108643\n",
      "Epoch 46, CIFAR-10 Batch 1:  Loss=0.0010247405152767897 ValidationAccuracy=0.5270000100135803\n",
      "Epoch 47, CIFAR-10 Batch 1:  Loss=0.00031158942147158086 ValidationAccuracy=0.5289999842643738\n",
      "Epoch 48, CIFAR-10 Batch 1:  Loss=0.0009459723951295018 ValidationAccuracy=0.5203999876976013\n",
      "Epoch 49, CIFAR-10 Batch 1:  Loss=0.0008403565734624863 ValidationAccuracy=0.524399995803833\n",
      "Epoch 50, CIFAR-10 Batch 1:  Loss=0.001220513368025422 ValidationAccuracy=0.5234000086784363\n"
     ]
    }
   ],
   "source": [
    "\"\"\"\n",
    "DON'T MODIFY ANYTHING IN THIS CELL\n",
    "\"\"\"\n",
    "print('Checking the Training on a Single Batch...')\n",
    "with tf.Session() as sess:\n",
    "    # Initializing the variables\n",
    "    sess.run(tf.global_variables_initializer())\n",
    "    \n",
    "    # Training cycle\n",
    "    for epoch in range(epochs):\n",
    "        batch_i = 1\n",
    "        for batch_features, batch_labels in helper.load_preprocess_training_batch(batch_i, batch_size):\n",
    "            train_neural_network(sess, optimizer, keep_probability, batch_features, batch_labels)\n",
    "        print('Epoch {:>2}, CIFAR-10 Batch {}:  '.format(epoch + 1, batch_i), end='')\n",
    "        print_stats(sess, batch_features, batch_labels, cost, accuracy)"
   ]
  },
  {
   "cell_type": "markdown",
   "metadata": {},
   "source": [
    "### Fully Train the Model\n",
    "Now that you got a good accuracy with a single CIFAR-10 batch, try it with all five batches."
   ]
  },
  {
   "cell_type": "code",
   "execution_count": 51,
   "metadata": {},
   "outputs": [
    {
     "name": "stdout",
     "output_type": "stream",
     "text": [
      "Training...\n",
      "Epoch  1, CIFAR-10 Batch 1:  Loss=2.1103386878967285 ValidationAccuracy=0.3587999939918518\n",
      "Epoch  1, CIFAR-10 Batch 2:  Loss=1.629892349243164 ValidationAccuracy=0.40560001134872437\n",
      "Epoch  1, CIFAR-10 Batch 3:  Loss=1.3953546285629272 ValidationAccuracy=0.42480000853538513\n",
      "Epoch  1, CIFAR-10 Batch 4:  Loss=1.4530144929885864 ValidationAccuracy=0.44119998812675476\n",
      "Epoch  1, CIFAR-10 Batch 5:  Loss=1.561807632446289 ValidationAccuracy=0.4814000129699707\n",
      "Epoch  2, CIFAR-10 Batch 1:  Loss=1.5674439668655396 ValidationAccuracy=0.49619999527931213\n",
      "Epoch  2, CIFAR-10 Batch 2:  Loss=1.3646800518035889 ValidationAccuracy=0.498199999332428\n",
      "Epoch  2, CIFAR-10 Batch 3:  Loss=1.1718727350234985 ValidationAccuracy=0.4909999966621399\n",
      "Epoch  2, CIFAR-10 Batch 4:  Loss=1.1119858026504517 ValidationAccuracy=0.5343999862670898\n",
      "Epoch  2, CIFAR-10 Batch 5:  Loss=1.3847275972366333 ValidationAccuracy=0.5311999917030334\n",
      "Epoch  3, CIFAR-10 Batch 1:  Loss=1.2904586791992188 ValidationAccuracy=0.532800018787384\n",
      "Epoch  3, CIFAR-10 Batch 2:  Loss=1.1410025358200073 ValidationAccuracy=0.5314000248908997\n",
      "Epoch  3, CIFAR-10 Batch 3:  Loss=0.9022880792617798 ValidationAccuracy=0.5655999779701233\n",
      "Epoch  3, CIFAR-10 Batch 4:  Loss=0.9585768580436707 ValidationAccuracy=0.5712000131607056\n",
      "Epoch  3, CIFAR-10 Batch 5:  Loss=1.106532096862793 ValidationAccuracy=0.571399986743927\n",
      "Epoch  4, CIFAR-10 Batch 1:  Loss=1.1132714748382568 ValidationAccuracy=0.5709999799728394\n",
      "Epoch  4, CIFAR-10 Batch 2:  Loss=0.9683710336685181 ValidationAccuracy=0.5720000267028809\n",
      "Epoch  4, CIFAR-10 Batch 3:  Loss=0.7364934086799622 ValidationAccuracy=0.5802000164985657\n",
      "Epoch  4, CIFAR-10 Batch 4:  Loss=0.8348671197891235 ValidationAccuracy=0.5788000226020813\n",
      "Epoch  4, CIFAR-10 Batch 5:  Loss=0.8647984266281128 ValidationAccuracy=0.6025999784469604\n",
      "Epoch  5, CIFAR-10 Batch 1:  Loss=0.913998007774353 ValidationAccuracy=0.5946000218391418\n",
      "Epoch  5, CIFAR-10 Batch 2:  Loss=0.7732852101325989 ValidationAccuracy=0.5878000259399414\n",
      "Epoch  5, CIFAR-10 Batch 3:  Loss=0.5383615493774414 ValidationAccuracy=0.605400025844574\n",
      "Epoch  5, CIFAR-10 Batch 4:  Loss=0.7360853552818298 ValidationAccuracy=0.5965999960899353\n",
      "Epoch  5, CIFAR-10 Batch 5:  Loss=0.6915470361709595 ValidationAccuracy=0.6204000115394592\n",
      "Epoch  6, CIFAR-10 Batch 1:  Loss=0.7880884408950806 ValidationAccuracy=0.5956000089645386\n",
      "Epoch  6, CIFAR-10 Batch 2:  Loss=0.6609362363815308 ValidationAccuracy=0.605400025844574\n",
      "Epoch  6, CIFAR-10 Batch 3:  Loss=0.5464950799942017 ValidationAccuracy=0.5968000292778015\n",
      "Epoch  6, CIFAR-10 Batch 4:  Loss=0.6221572160720825 ValidationAccuracy=0.6111999750137329\n",
      "Epoch  6, CIFAR-10 Batch 5:  Loss=0.5304079055786133 ValidationAccuracy=0.6218000054359436\n",
      "Epoch  7, CIFAR-10 Batch 1:  Loss=0.6681935787200928 ValidationAccuracy=0.6182000041007996\n",
      "Epoch  7, CIFAR-10 Batch 2:  Loss=0.5106173753738403 ValidationAccuracy=0.6226000189781189\n",
      "Epoch  7, CIFAR-10 Batch 3:  Loss=0.45836275815963745 ValidationAccuracy=0.5968000292778015\n",
      "Epoch  7, CIFAR-10 Batch 4:  Loss=0.5387157201766968 ValidationAccuracy=0.6244000196456909\n",
      "Epoch  7, CIFAR-10 Batch 5:  Loss=0.45017337799072266 ValidationAccuracy=0.6057999730110168\n",
      "Epoch  8, CIFAR-10 Batch 1:  Loss=0.5709508657455444 ValidationAccuracy=0.6226000189781189\n",
      "Epoch  8, CIFAR-10 Batch 2:  Loss=0.4293075203895569 ValidationAccuracy=0.629800021648407\n",
      "Epoch  8, CIFAR-10 Batch 3:  Loss=0.37354904413223267 ValidationAccuracy=0.6222000122070312\n",
      "Epoch  8, CIFAR-10 Batch 4:  Loss=0.4846457540988922 ValidationAccuracy=0.6263999938964844\n",
      "Epoch  8, CIFAR-10 Batch 5:  Loss=0.29126057028770447 ValidationAccuracy=0.6082000136375427\n",
      "Epoch  9, CIFAR-10 Batch 1:  Loss=0.5031772255897522 ValidationAccuracy=0.6313999891281128\n",
      "Epoch  9, CIFAR-10 Batch 2:  Loss=0.42564040422439575 ValidationAccuracy=0.6164000034332275\n",
      "Epoch  9, CIFAR-10 Batch 3:  Loss=0.26793238520622253 ValidationAccuracy=0.6251999735832214\n",
      "Epoch  9, CIFAR-10 Batch 4:  Loss=0.408733069896698 ValidationAccuracy=0.626800000667572\n",
      "Epoch  9, CIFAR-10 Batch 5:  Loss=0.2578245997428894 ValidationAccuracy=0.6039999723434448\n",
      "Epoch 10, CIFAR-10 Batch 1:  Loss=0.40384340286254883 ValidationAccuracy=0.6294000148773193\n",
      "Epoch 10, CIFAR-10 Batch 2:  Loss=0.42534103989601135 ValidationAccuracy=0.6007999777793884\n",
      "Epoch 10, CIFAR-10 Batch 3:  Loss=0.3564296364784241 ValidationAccuracy=0.5938000082969666\n",
      "Epoch 10, CIFAR-10 Batch 4:  Loss=0.32173794507980347 ValidationAccuracy=0.625\n",
      "Epoch 10, CIFAR-10 Batch 5:  Loss=0.23794591426849365 ValidationAccuracy=0.621999979019165\n",
      "Epoch 11, CIFAR-10 Batch 1:  Loss=0.31467390060424805 ValidationAccuracy=0.6233999729156494\n",
      "Epoch 11, CIFAR-10 Batch 2:  Loss=0.322946697473526 ValidationAccuracy=0.6083999872207642\n",
      "Epoch 11, CIFAR-10 Batch 3:  Loss=0.21912376582622528 ValidationAccuracy=0.6273999810218811\n",
      "Epoch 11, CIFAR-10 Batch 4:  Loss=0.30262312293052673 ValidationAccuracy=0.6205999851226807\n",
      "Epoch 11, CIFAR-10 Batch 5:  Loss=0.1733044683933258 ValidationAccuracy=0.6173999905586243\n",
      "Epoch 12, CIFAR-10 Batch 1:  Loss=0.30608758330345154 ValidationAccuracy=0.6123999953269958\n",
      "Epoch 12, CIFAR-10 Batch 2:  Loss=0.2150231897830963 ValidationAccuracy=0.6209999918937683\n",
      "Epoch 12, CIFAR-10 Batch 3:  Loss=0.20652413368225098 ValidationAccuracy=0.614799976348877\n",
      "Epoch 12, CIFAR-10 Batch 4:  Loss=0.22321920096874237 ValidationAccuracy=0.6341999769210815\n",
      "Epoch 12, CIFAR-10 Batch 5:  Loss=0.18088631331920624 ValidationAccuracy=0.631600022315979\n",
      "Epoch 13, CIFAR-10 Batch 1:  Loss=0.21298539638519287 ValidationAccuracy=0.6263999938964844\n",
      "Epoch 13, CIFAR-10 Batch 2:  Loss=0.20834407210350037 ValidationAccuracy=0.6061999797821045\n",
      "Epoch 13, CIFAR-10 Batch 3:  Loss=0.20542757213115692 ValidationAccuracy=0.6029999852180481\n",
      "Epoch 13, CIFAR-10 Batch 4:  Loss=0.26159149408340454 ValidationAccuracy=0.6313999891281128\n",
      "Epoch 13, CIFAR-10 Batch 5:  Loss=0.20032231509685516 ValidationAccuracy=0.6326000094413757\n",
      "Epoch 14, CIFAR-10 Batch 1:  Loss=0.23946413397789001 ValidationAccuracy=0.6200000047683716\n",
      "Epoch 14, CIFAR-10 Batch 2:  Loss=0.20047616958618164 ValidationAccuracy=0.6276000142097473\n",
      "Epoch 14, CIFAR-10 Batch 3:  Loss=0.17771153151988983 ValidationAccuracy=0.6119999885559082\n",
      "Epoch 14, CIFAR-10 Batch 4:  Loss=0.22819194197654724 ValidationAccuracy=0.6317999958992004\n",
      "Epoch 14, CIFAR-10 Batch 5:  Loss=0.16335231065750122 ValidationAccuracy=0.6223999857902527\n",
      "Epoch 15, CIFAR-10 Batch 1:  Loss=0.20450416207313538 ValidationAccuracy=0.6281999945640564\n",
      "Epoch 15, CIFAR-10 Batch 2:  Loss=0.1397065669298172 ValidationAccuracy=0.628000020980835\n",
      "Epoch 15, CIFAR-10 Batch 3:  Loss=0.11816724389791489 ValidationAccuracy=0.6132000088691711\n",
      "Epoch 15, CIFAR-10 Batch 4:  Loss=0.21357738971710205 ValidationAccuracy=0.6209999918937683\n",
      "Epoch 15, CIFAR-10 Batch 5:  Loss=0.12993168830871582 ValidationAccuracy=0.6136000156402588\n",
      "Epoch 16, CIFAR-10 Batch 1:  Loss=0.15954771637916565 ValidationAccuracy=0.6363999843597412\n",
      "Epoch 16, CIFAR-10 Batch 2:  Loss=0.12565480172634125 ValidationAccuracy=0.6262000203132629\n",
      "Epoch 16, CIFAR-10 Batch 3:  Loss=0.09436167776584625 ValidationAccuracy=0.629800021648407\n",
      "Epoch 16, CIFAR-10 Batch 4:  Loss=0.15909792482852936 ValidationAccuracy=0.620199978351593\n",
      "Epoch 16, CIFAR-10 Batch 5:  Loss=0.13518866896629333 ValidationAccuracy=0.6277999877929688\n",
      "Epoch 17, CIFAR-10 Batch 1:  Loss=0.14651332795619965 ValidationAccuracy=0.6384000182151794\n",
      "Epoch 17, CIFAR-10 Batch 2:  Loss=0.10577478259801865 ValidationAccuracy=0.6258000135421753\n",
      "Epoch 17, CIFAR-10 Batch 3:  Loss=0.08409150689840317 ValidationAccuracy=0.6255999803543091\n",
      "Epoch 17, CIFAR-10 Batch 4:  Loss=0.15959136188030243 ValidationAccuracy=0.609000027179718\n",
      "Epoch 17, CIFAR-10 Batch 5:  Loss=0.10531587898731232 ValidationAccuracy=0.6304000020027161\n",
      "Epoch 18, CIFAR-10 Batch 1:  Loss=0.15591076016426086 ValidationAccuracy=0.6330000162124634\n",
      "Epoch 18, CIFAR-10 Batch 2:  Loss=0.11935760825872421 ValidationAccuracy=0.6128000020980835\n",
      "Epoch 18, CIFAR-10 Batch 3:  Loss=0.07588087022304535 ValidationAccuracy=0.6254000067710876\n",
      "Epoch 18, CIFAR-10 Batch 4:  Loss=0.16081789135932922 ValidationAccuracy=0.6122000217437744\n",
      "Epoch 18, CIFAR-10 Batch 5:  Loss=0.06909500062465668 ValidationAccuracy=0.6340000033378601\n"
     ]
    },
    {
     "name": "stdout",
     "output_type": "stream",
     "text": [
      "Epoch 19, CIFAR-10 Batch 1:  Loss=0.15675336122512817 ValidationAccuracy=0.623199999332428\n",
      "Epoch 19, CIFAR-10 Batch 2:  Loss=0.12591958045959473 ValidationAccuracy=0.6074000000953674\n",
      "Epoch 19, CIFAR-10 Batch 3:  Loss=0.07790647447109222 ValidationAccuracy=0.618399977684021\n",
      "Epoch 19, CIFAR-10 Batch 4:  Loss=0.12517717480659485 ValidationAccuracy=0.6259999871253967\n",
      "Epoch 19, CIFAR-10 Batch 5:  Loss=0.07637916505336761 ValidationAccuracy=0.629800021648407\n",
      "Epoch 20, CIFAR-10 Batch 1:  Loss=0.14273884892463684 ValidationAccuracy=0.621399998664856\n",
      "Epoch 20, CIFAR-10 Batch 2:  Loss=0.07135515660047531 ValidationAccuracy=0.6025999784469604\n",
      "Epoch 20, CIFAR-10 Batch 3:  Loss=0.046430133283138275 ValidationAccuracy=0.6330000162124634\n",
      "Epoch 20, CIFAR-10 Batch 4:  Loss=0.083970807492733 ValidationAccuracy=0.6277999877929688\n",
      "Epoch 20, CIFAR-10 Batch 5:  Loss=0.07193173468112946 ValidationAccuracy=0.6309999823570251\n",
      "Epoch 21, CIFAR-10 Batch 1:  Loss=0.10381986945867538 ValidationAccuracy=0.6251999735832214\n",
      "Epoch 21, CIFAR-10 Batch 2:  Loss=0.0635024830698967 ValidationAccuracy=0.6057999730110168\n",
      "Epoch 21, CIFAR-10 Batch 3:  Loss=0.04403712600469589 ValidationAccuracy=0.6312000155448914\n",
      "Epoch 21, CIFAR-10 Batch 4:  Loss=0.05713776499032974 ValidationAccuracy=0.6241999864578247\n",
      "Epoch 21, CIFAR-10 Batch 5:  Loss=0.06211547181010246 ValidationAccuracy=0.6358000040054321\n",
      "Epoch 22, CIFAR-10 Batch 1:  Loss=0.08950483798980713 ValidationAccuracy=0.6115999817848206\n",
      "Epoch 22, CIFAR-10 Batch 2:  Loss=0.04286469146609306 ValidationAccuracy=0.6092000007629395\n",
      "Epoch 22, CIFAR-10 Batch 3:  Loss=0.046071022748947144 ValidationAccuracy=0.6177999973297119\n",
      "Epoch 22, CIFAR-10 Batch 4:  Loss=0.049746863543987274 ValidationAccuracy=0.6290000081062317\n",
      "Epoch 22, CIFAR-10 Batch 5:  Loss=0.03644748404622078 ValidationAccuracy=0.6359999775886536\n",
      "Epoch 23, CIFAR-10 Batch 1:  Loss=0.1108253002166748 ValidationAccuracy=0.5989999771118164\n",
      "Epoch 23, CIFAR-10 Batch 2:  Loss=0.03396189212799072 ValidationAccuracy=0.6158000230789185\n",
      "Epoch 23, CIFAR-10 Batch 3:  Loss=0.0426865890622139 ValidationAccuracy=0.6141999959945679\n",
      "Epoch 23, CIFAR-10 Batch 4:  Loss=0.05285564810037613 ValidationAccuracy=0.6312000155448914\n",
      "Epoch 23, CIFAR-10 Batch 5:  Loss=0.045447565615177155 ValidationAccuracy=0.6367999911308289\n",
      "Epoch 24, CIFAR-10 Batch 1:  Loss=0.07998522371053696 ValidationAccuracy=0.574999988079071\n",
      "Epoch 24, CIFAR-10 Batch 2:  Loss=0.05772287771105766 ValidationAccuracy=0.6000000238418579\n",
      "Epoch 24, CIFAR-10 Batch 3:  Loss=0.027173634618520737 ValidationAccuracy=0.6245999932289124\n",
      "Epoch 24, CIFAR-10 Batch 4:  Loss=0.039631277322769165 ValidationAccuracy=0.6340000033378601\n",
      "Epoch 24, CIFAR-10 Batch 5:  Loss=0.04141737148165703 ValidationAccuracy=0.6348000168800354\n",
      "Epoch 25, CIFAR-10 Batch 1:  Loss=0.05187024921178818 ValidationAccuracy=0.6110000014305115\n",
      "Epoch 25, CIFAR-10 Batch 2:  Loss=0.05060911923646927 ValidationAccuracy=0.599399983882904\n",
      "Epoch 25, CIFAR-10 Batch 3:  Loss=0.03326119855046272 ValidationAccuracy=0.6294000148773193\n",
      "Epoch 25, CIFAR-10 Batch 4:  Loss=0.04552755504846573 ValidationAccuracy=0.6291999816894531\n",
      "Epoch 25, CIFAR-10 Batch 5:  Loss=0.04404938593506813 ValidationAccuracy=0.6259999871253967\n",
      "Epoch 26, CIFAR-10 Batch 1:  Loss=0.05863431841135025 ValidationAccuracy=0.5960000157356262\n",
      "Epoch 26, CIFAR-10 Batch 2:  Loss=0.03311873599886894 ValidationAccuracy=0.6001999974250793\n",
      "Epoch 26, CIFAR-10 Batch 3:  Loss=0.026620715856552124 ValidationAccuracy=0.6227999925613403\n",
      "Epoch 26, CIFAR-10 Batch 4:  Loss=0.03592543676495552 ValidationAccuracy=0.6251999735832214\n",
      "Epoch 26, CIFAR-10 Batch 5:  Loss=0.03192838653922081 ValidationAccuracy=0.6237999796867371\n",
      "Epoch 27, CIFAR-10 Batch 1:  Loss=0.036646585911512375 ValidationAccuracy=0.6159999966621399\n",
      "Epoch 27, CIFAR-10 Batch 2:  Loss=0.03541494533419609 ValidationAccuracy=0.6154000163078308\n",
      "Epoch 27, CIFAR-10 Batch 3:  Loss=0.029931161552667618 ValidationAccuracy=0.6277999877929688\n",
      "Epoch 27, CIFAR-10 Batch 4:  Loss=0.03220909833908081 ValidationAccuracy=0.6164000034332275\n",
      "Epoch 27, CIFAR-10 Batch 5:  Loss=0.032381605356931686 ValidationAccuracy=0.6208000183105469\n",
      "Epoch 28, CIFAR-10 Batch 1:  Loss=0.04149004817008972 ValidationAccuracy=0.6128000020980835\n",
      "Epoch 28, CIFAR-10 Batch 2:  Loss=0.03438068553805351 ValidationAccuracy=0.6141999959945679\n",
      "Epoch 28, CIFAR-10 Batch 3:  Loss=0.03523407131433487 ValidationAccuracy=0.6244000196456909\n",
      "Epoch 28, CIFAR-10 Batch 4:  Loss=0.031136730685830116 ValidationAccuracy=0.6191999912261963\n",
      "Epoch 28, CIFAR-10 Batch 5:  Loss=0.024445846676826477 ValidationAccuracy=0.6161999702453613\n",
      "Epoch 29, CIFAR-10 Batch 1:  Loss=0.02880806103348732 ValidationAccuracy=0.6177999973297119\n",
      "Epoch 29, CIFAR-10 Batch 2:  Loss=0.0481010377407074 ValidationAccuracy=0.6032000184059143\n",
      "Epoch 29, CIFAR-10 Batch 3:  Loss=0.036648981273174286 ValidationAccuracy=0.6182000041007996\n",
      "Epoch 29, CIFAR-10 Batch 4:  Loss=0.025779128074645996 ValidationAccuracy=0.6244000196456909\n",
      "Epoch 29, CIFAR-10 Batch 5:  Loss=0.06630895286798477 ValidationAccuracy=0.6182000041007996\n",
      "Epoch 30, CIFAR-10 Batch 1:  Loss=0.0354955717921257 ValidationAccuracy=0.6236000061035156\n",
      "Epoch 30, CIFAR-10 Batch 2:  Loss=0.03537597507238388 ValidationAccuracy=0.5979999899864197\n",
      "Epoch 30, CIFAR-10 Batch 3:  Loss=0.035912852734327316 ValidationAccuracy=0.6245999932289124\n",
      "Epoch 30, CIFAR-10 Batch 4:  Loss=0.08076101541519165 ValidationAccuracy=0.597599983215332\n",
      "Epoch 30, CIFAR-10 Batch 5:  Loss=0.04331245273351669 ValidationAccuracy=0.6110000014305115\n",
      "Epoch 31, CIFAR-10 Batch 1:  Loss=0.04680890962481499 ValidationAccuracy=0.616599977016449\n",
      "Epoch 31, CIFAR-10 Batch 2:  Loss=0.037501461803913116 ValidationAccuracy=0.6141999959945679\n",
      "Epoch 31, CIFAR-10 Batch 3:  Loss=0.02555903233587742 ValidationAccuracy=0.6205999851226807\n",
      "Epoch 31, CIFAR-10 Batch 4:  Loss=0.033108942210674286 ValidationAccuracy=0.6205999851226807\n",
      "Epoch 31, CIFAR-10 Batch 5:  Loss=0.05157214403152466 ValidationAccuracy=0.6032000184059143\n",
      "Epoch 32, CIFAR-10 Batch 1:  Loss=0.06754445284605026 ValidationAccuracy=0.6169999837875366\n",
      "Epoch 32, CIFAR-10 Batch 2:  Loss=0.035860855132341385 ValidationAccuracy=0.6182000041007996\n",
      "Epoch 32, CIFAR-10 Batch 3:  Loss=0.03123403526842594 ValidationAccuracy=0.6128000020980835\n",
      "Epoch 32, CIFAR-10 Batch 4:  Loss=0.0389760360121727 ValidationAccuracy=0.6110000014305115\n",
      "Epoch 32, CIFAR-10 Batch 5:  Loss=0.042838212102651596 ValidationAccuracy=0.6029999852180481\n",
      "Epoch 33, CIFAR-10 Batch 1:  Loss=0.03846778720617294 ValidationAccuracy=0.6111999750137329\n",
      "Epoch 33, CIFAR-10 Batch 2:  Loss=0.015229037031531334 ValidationAccuracy=0.6187999844551086\n",
      "Epoch 33, CIFAR-10 Batch 3:  Loss=0.04448438435792923 ValidationAccuracy=0.5942000150680542\n",
      "Epoch 33, CIFAR-10 Batch 4:  Loss=0.05073709040880203 ValidationAccuracy=0.6158000230789185\n",
      "Epoch 33, CIFAR-10 Batch 5:  Loss=0.033151429146528244 ValidationAccuracy=0.6101999878883362\n",
      "Epoch 34, CIFAR-10 Batch 1:  Loss=0.03618236631155014 ValidationAccuracy=0.6176000237464905\n",
      "Epoch 34, CIFAR-10 Batch 2:  Loss=0.022830992937088013 ValidationAccuracy=0.6255999803543091\n",
      "Epoch 34, CIFAR-10 Batch 3:  Loss=0.019832437857985497 ValidationAccuracy=0.6047999858856201\n",
      "Epoch 34, CIFAR-10 Batch 4:  Loss=0.021927328780293465 ValidationAccuracy=0.6018000245094299\n",
      "Epoch 34, CIFAR-10 Batch 5:  Loss=0.033780768513679504 ValidationAccuracy=0.6129999756813049\n",
      "Epoch 35, CIFAR-10 Batch 1:  Loss=0.014468100853264332 ValidationAccuracy=0.6132000088691711\n",
      "Epoch 35, CIFAR-10 Batch 2:  Loss=0.02236221358180046 ValidationAccuracy=0.6230000257492065\n",
      "Epoch 35, CIFAR-10 Batch 3:  Loss=0.016231637448072433 ValidationAccuracy=0.6146000027656555\n",
      "Epoch 35, CIFAR-10 Batch 4:  Loss=0.04012911766767502 ValidationAccuracy=0.6136000156402588\n",
      "Epoch 35, CIFAR-10 Batch 5:  Loss=0.023362575098872185 ValidationAccuracy=0.6169999837875366\n",
      "Epoch 36, CIFAR-10 Batch 1:  Loss=0.028333470225334167 ValidationAccuracy=0.6240000128746033\n",
      "Epoch 36, CIFAR-10 Batch 2:  Loss=0.011082999408245087 ValidationAccuracy=0.6226000189781189\n",
      "Epoch 36, CIFAR-10 Batch 3:  Loss=0.02651599608361721 ValidationAccuracy=0.6082000136375427\n",
      "Epoch 36, CIFAR-10 Batch 4:  Loss=0.02107417583465576 ValidationAccuracy=0.6136000156402588\n"
     ]
    },
    {
     "name": "stdout",
     "output_type": "stream",
     "text": [
      "Epoch 36, CIFAR-10 Batch 5:  Loss=0.026212304830551147 ValidationAccuracy=0.6151999831199646\n",
      "Epoch 37, CIFAR-10 Batch 1:  Loss=0.046458132565021515 ValidationAccuracy=0.6158000230789185\n",
      "Epoch 37, CIFAR-10 Batch 2:  Loss=0.021655548363924026 ValidationAccuracy=0.6302000284194946\n",
      "Epoch 37, CIFAR-10 Batch 3:  Loss=0.01030680537223816 ValidationAccuracy=0.6281999945640564\n",
      "Epoch 37, CIFAR-10 Batch 4:  Loss=0.038593970239162445 ValidationAccuracy=0.6177999973297119\n",
      "Epoch 37, CIFAR-10 Batch 5:  Loss=0.01274995505809784 ValidationAccuracy=0.6200000047683716\n",
      "Epoch 38, CIFAR-10 Batch 1:  Loss=0.0275805052369833 ValidationAccuracy=0.6215999722480774\n",
      "Epoch 38, CIFAR-10 Batch 2:  Loss=0.014595921151340008 ValidationAccuracy=0.6254000067710876\n",
      "Epoch 38, CIFAR-10 Batch 3:  Loss=0.015868453308939934 ValidationAccuracy=0.6168000102043152\n",
      "Epoch 38, CIFAR-10 Batch 4:  Loss=0.019550343975424767 ValidationAccuracy=0.6226000189781189\n",
      "Epoch 38, CIFAR-10 Batch 5:  Loss=0.02679380215704441 ValidationAccuracy=0.6259999871253967\n",
      "Epoch 39, CIFAR-10 Batch 1:  Loss=0.03019092045724392 ValidationAccuracy=0.625\n",
      "Epoch 39, CIFAR-10 Batch 2:  Loss=0.012857414782047272 ValidationAccuracy=0.6255999803543091\n",
      "Epoch 39, CIFAR-10 Batch 3:  Loss=0.015147516503930092 ValidationAccuracy=0.6227999925613403\n",
      "Epoch 39, CIFAR-10 Batch 4:  Loss=0.022444281727075577 ValidationAccuracy=0.6177999973297119\n",
      "Epoch 39, CIFAR-10 Batch 5:  Loss=0.01063607819378376 ValidationAccuracy=0.6141999959945679\n",
      "Epoch 40, CIFAR-10 Batch 1:  Loss=0.03507295995950699 ValidationAccuracy=0.628600001335144\n",
      "Epoch 40, CIFAR-10 Batch 2:  Loss=0.01624923199415207 ValidationAccuracy=0.6259999871253967\n",
      "Epoch 40, CIFAR-10 Batch 3:  Loss=0.0149224903434515 ValidationAccuracy=0.6128000020980835\n",
      "Epoch 40, CIFAR-10 Batch 4:  Loss=0.03046826645731926 ValidationAccuracy=0.6132000088691711\n",
      "Epoch 40, CIFAR-10 Batch 5:  Loss=0.01991632953286171 ValidationAccuracy=0.6182000041007996\n",
      "Epoch 41, CIFAR-10 Batch 1:  Loss=0.038802266120910645 ValidationAccuracy=0.618399977684021\n",
      "Epoch 41, CIFAR-10 Batch 2:  Loss=0.024488547816872597 ValidationAccuracy=0.6317999958992004\n",
      "Epoch 41, CIFAR-10 Batch 3:  Loss=0.00566531578078866 ValidationAccuracy=0.6191999912261963\n",
      "Epoch 41, CIFAR-10 Batch 4:  Loss=0.026082778349518776 ValidationAccuracy=0.6141999959945679\n",
      "Epoch 41, CIFAR-10 Batch 5:  Loss=0.006098212208598852 ValidationAccuracy=0.6262000203132629\n",
      "Epoch 42, CIFAR-10 Batch 1:  Loss=0.04692397266626358 ValidationAccuracy=0.6182000041007996\n",
      "Epoch 42, CIFAR-10 Batch 2:  Loss=0.019536888226866722 ValidationAccuracy=0.621399998664856\n",
      "Epoch 42, CIFAR-10 Batch 3:  Loss=0.014831563457846642 ValidationAccuracy=0.6169999837875366\n",
      "Epoch 42, CIFAR-10 Batch 4:  Loss=0.016164500266313553 ValidationAccuracy=0.6144000291824341\n",
      "Epoch 42, CIFAR-10 Batch 5:  Loss=0.011366943828761578 ValidationAccuracy=0.621999979019165\n",
      "Epoch 43, CIFAR-10 Batch 1:  Loss=0.013096034526824951 ValidationAccuracy=0.6223999857902527\n",
      "Epoch 43, CIFAR-10 Batch 2:  Loss=0.009293404407799244 ValidationAccuracy=0.6154000163078308\n",
      "Epoch 43, CIFAR-10 Batch 3:  Loss=0.018801413476467133 ValidationAccuracy=0.6129999756813049\n",
      "Epoch 43, CIFAR-10 Batch 4:  Loss=0.006653162185102701 ValidationAccuracy=0.6151999831199646\n",
      "Epoch 43, CIFAR-10 Batch 5:  Loss=0.02343703806400299 ValidationAccuracy=0.6262000203132629\n",
      "Epoch 44, CIFAR-10 Batch 1:  Loss=0.010402180254459381 ValidationAccuracy=0.6197999715805054\n",
      "Epoch 44, CIFAR-10 Batch 2:  Loss=0.050067584961652756 ValidationAccuracy=0.6159999966621399\n",
      "Epoch 44, CIFAR-10 Batch 3:  Loss=0.006474057678133249 ValidationAccuracy=0.621999979019165\n",
      "Epoch 44, CIFAR-10 Batch 4:  Loss=0.012857109308242798 ValidationAccuracy=0.6164000034332275\n",
      "Epoch 44, CIFAR-10 Batch 5:  Loss=0.017620714381337166 ValidationAccuracy=0.6161999702453613\n",
      "Epoch 45, CIFAR-10 Batch 1:  Loss=0.015725180506706238 ValidationAccuracy=0.628600001335144\n",
      "Epoch 45, CIFAR-10 Batch 2:  Loss=0.024496514350175858 ValidationAccuracy=0.6233999729156494\n",
      "Epoch 45, CIFAR-10 Batch 3:  Loss=0.0053939614444971085 ValidationAccuracy=0.6276000142097473\n",
      "Epoch 45, CIFAR-10 Batch 4:  Loss=0.03888343274593353 ValidationAccuracy=0.6057999730110168\n",
      "Epoch 45, CIFAR-10 Batch 5:  Loss=0.0097475191578269 ValidationAccuracy=0.61080002784729\n",
      "Epoch 46, CIFAR-10 Batch 1:  Loss=0.036903396248817444 ValidationAccuracy=0.6205999851226807\n",
      "Epoch 46, CIFAR-10 Batch 2:  Loss=0.014375215396285057 ValidationAccuracy=0.6245999932289124\n",
      "Epoch 46, CIFAR-10 Batch 3:  Loss=0.0064028166234493256 ValidationAccuracy=0.6133999824523926\n",
      "Epoch 46, CIFAR-10 Batch 4:  Loss=0.01397138275206089 ValidationAccuracy=0.6168000102043152\n",
      "Epoch 46, CIFAR-10 Batch 5:  Loss=0.01954682730138302 ValidationAccuracy=0.6087999939918518\n",
      "Epoch 47, CIFAR-10 Batch 1:  Loss=0.012281933799386024 ValidationAccuracy=0.6110000014305115\n",
      "Epoch 47, CIFAR-10 Batch 2:  Loss=0.02028549835085869 ValidationAccuracy=0.6338000297546387\n",
      "Epoch 47, CIFAR-10 Batch 3:  Loss=0.003898280905559659 ValidationAccuracy=0.6172000169754028\n",
      "Epoch 47, CIFAR-10 Batch 4:  Loss=0.014867359772324562 ValidationAccuracy=0.6105999946594238\n",
      "Epoch 47, CIFAR-10 Batch 5:  Loss=0.02865975722670555 ValidationAccuracy=0.6137999892234802\n",
      "Epoch 48, CIFAR-10 Batch 1:  Loss=0.015045471489429474 ValidationAccuracy=0.6093999743461609\n",
      "Epoch 48, CIFAR-10 Batch 2:  Loss=0.013121257536113262 ValidationAccuracy=0.6208000183105469\n",
      "Epoch 48, CIFAR-10 Batch 3:  Loss=0.00429693004116416 ValidationAccuracy=0.6115999817848206\n",
      "Epoch 48, CIFAR-10 Batch 4:  Loss=0.01254983525723219 ValidationAccuracy=0.6082000136375427\n",
      "Epoch 48, CIFAR-10 Batch 5:  Loss=0.018268901854753494 ValidationAccuracy=0.6069999933242798\n",
      "Epoch 49, CIFAR-10 Batch 1:  Loss=0.024076487869024277 ValidationAccuracy=0.6057999730110168\n",
      "Epoch 49, CIFAR-10 Batch 2:  Loss=0.013850751332938671 ValidationAccuracy=0.6284000277519226\n",
      "Epoch 49, CIFAR-10 Batch 3:  Loss=0.0107028279453516 ValidationAccuracy=0.6212000250816345\n",
      "Epoch 49, CIFAR-10 Batch 4:  Loss=0.027566123753786087 ValidationAccuracy=0.6223999857902527\n",
      "Epoch 49, CIFAR-10 Batch 5:  Loss=0.009903596714138985 ValidationAccuracy=0.6119999885559082\n",
      "Epoch 50, CIFAR-10 Batch 1:  Loss=0.018240083009004593 ValidationAccuracy=0.6155999898910522\n",
      "Epoch 50, CIFAR-10 Batch 2:  Loss=0.01410558819770813 ValidationAccuracy=0.6230000257492065\n",
      "Epoch 50, CIFAR-10 Batch 3:  Loss=0.009920848533511162 ValidationAccuracy=0.6197999715805054\n",
      "Epoch 50, CIFAR-10 Batch 4:  Loss=0.03724634274840355 ValidationAccuracy=0.6087999939918518\n",
      "Epoch 50, CIFAR-10 Batch 5:  Loss=0.015308685600757599 ValidationAccuracy=0.6057999730110168\n"
     ]
    }
   ],
   "source": [
    "\"\"\"\n",
    "DON'T MODIFY ANYTHING IN THIS CELL\n",
    "\"\"\"\n",
    "save_model_path = './image_classification'\n",
    "\n",
    "print('Training...')\n",
    "with tf.Session() as sess:\n",
    "    # Initializing the variables\n",
    "    sess.run(tf.global_variables_initializer())\n",
    "    \n",
    "    # Training cycle\n",
    "    for epoch in range(epochs):\n",
    "        # Loop over all batches\n",
    "        n_batches = 5\n",
    "        for batch_i in range(1, n_batches + 1):\n",
    "            for batch_features, batch_labels in helper.load_preprocess_training_batch(batch_i, batch_size):\n",
    "                train_neural_network(sess, optimizer, keep_probability, batch_features, batch_labels)\n",
    "            print('Epoch {:>2}, CIFAR-10 Batch {}:  '.format(epoch + 1, batch_i), end='')\n",
    "            print_stats(sess, batch_features, batch_labels, cost, accuracy)\n",
    "            \n",
    "    # Save Model\n",
    "    saver = tf.train.Saver()\n",
    "    save_path = saver.save(sess, save_model_path)"
   ]
  },
  {
   "cell_type": "markdown",
   "metadata": {},
   "source": [
    "# Checkpoint\n",
    "The model has been saved to disk.\n",
    "## Test Model\n",
    "Test your model against the test dataset.  This will be your final accuracy. You should have an accuracy greater than 50%. If you don't, keep tweaking the model architecture and parameters."
   ]
  },
  {
   "cell_type": "code",
   "execution_count": 52,
   "metadata": {},
   "outputs": [
    {
     "name": "stdout",
     "output_type": "stream",
     "text": [
      "INFO:tensorflow:Restoring parameters from ./image_classification\n",
      "Testing Accuracy: 0.6096716772151899\n",
      "\n"
     ]
    },
    {
     "data": {
      "image/png": "[encoded data removed]",
      "text/plain": [
       "<Figure size 432x288 with 8 Axes>"
      ]
     },
     "metadata": {
      "image/png": {
       "height": 319,
       "width": 355
      }
     },
     "output_type": "display_data"
    }
   ],
   "source": [
    "\"\"\"\n",
    "DON'T MODIFY ANYTHING IN THIS CELL\n",
    "\"\"\"\n",
    "%matplotlib inline\n",
    "%config InlineBackend.figure_format = 'retina'\n",
    "\n",
    "import tensorflow as tf\n",
    "import pickle\n",
    "import helper\n",
    "import random\n",
    "\n",
    "# Set batch size if not already set\n",
    "try:\n",
    "    if batch_size:\n",
    "        pass\n",
    "except NameError:\n",
    "    batch_size = 64\n",
    "\n",
    "save_model_path = './image_classification'\n",
    "n_samples = 4\n",
    "top_n_predictions = 3\n",
    "\n",
    "def test_model():\n",
    "    \"\"\"\n",
    "    Test the saved model against the test dataset\n",
    "    \"\"\"\n",
    "\n",
    "    test_features, test_labels = pickle.load(open('preprocess_training.p', mode='rb'))\n",
    "    loaded_graph = tf.Graph()\n",
    "\n",
    "    with tf.Session(graph=loaded_graph) as sess:\n",
    "        # Load model\n",
    "        loader = tf.train.import_meta_graph(save_model_path + '.meta')\n",
    "        loader.restore(sess, save_model_path)\n",
    "\n",
    "        # Get Tensors from loaded model\n",
    "        loaded_x = loaded_graph.get_tensor_by_name('x:0')\n",
    "        loaded_y = loaded_graph.get_tensor_by_name('y:0')\n",
    "        loaded_keep_prob = loaded_graph.get_tensor_by_name('keep_prob:0')\n",
    "        loaded_logits = loaded_graph.get_tensor_by_name('logits:0')\n",
    "        loaded_acc = loaded_graph.get_tensor_by_name('accuracy:0')\n",
    "        \n",
    "        # Get accuracy in batches for memory limitations\n",
    "        test_batch_acc_total = 0\n",
    "        test_batch_count = 0\n",
    "        \n",
    "        for train_feature_batch, train_label_batch in helper.batch_features_labels(test_features, test_labels, batch_size):\n",
    "            test_batch_acc_total += sess.run(\n",
    "                loaded_acc,\n",
    "                feed_dict={loaded_x: train_feature_batch, loaded_y: train_label_batch, loaded_keep_prob: 1.0})\n",
    "            test_batch_count += 1\n",
    "\n",
    "        print('Testing Accuracy: {}\\n'.format(test_batch_acc_total/test_batch_count))\n",
    "\n",
    "        # Print Random Samples\n",
    "        random_test_features, random_test_labels = tuple(zip(*random.sample(list(zip(test_features, test_labels)), n_samples)))\n",
    "        random_test_predictions = sess.run(\n",
    "            tf.nn.top_k(tf.nn.softmax(loaded_logits), top_n_predictions),\n",
    "            feed_dict={loaded_x: random_test_features, loaded_y: random_test_labels, loaded_keep_prob: 1.0})\n",
    "        helper.display_image_predictions(random_test_features, random_test_labels, random_test_predictions)\n",
    "\n",
    "\n",
    "test_model()"
   ]
  },
  {
   "cell_type": "markdown",
   "metadata": {},
   "source": [
    "## Why 50-80% Accuracy?\n",
    "You might be wondering why you can't get an accuracy any higher. First things first, 50% isn't bad for a simple CNN.  Pure guessing would get you 10% accuracy. That's because there are many more techniques that can be applied to your model and we recemmond that once you are done with this project, you explore!\n",
    "\n",
    "## Submitting This Project\n",
    "When submitting this project, make sure to run all the cells before saving the notebook.  Save the notebook file as \"image_classification.ipynb\" and save it as a HTML file under \"File\" -> \"Download as\".  Include the \"helper.py\" and \"problem_unittests.py\" files in your submission."
   ]
  },
  {
   "cell_type": "code",
   "execution_count": null,
   "metadata": {},
   "outputs": [],
   "source": []
  }
 ],
 "metadata": {
  "kernelspec": {
   "display_name": "Python 3",
   "language": "python",
   "name": "python3"
  },
  "language_info": {
   "codemirror_mode": {
    "name": "ipython",
    "version": 3
   },
   "file_extension": ".py",
   "mimetype": "text/x-python",
   "name": "python",
   "nbconvert_exporter": "python",
   "pygments_lexer": "ipython3",
   "version": "3.6.5"
  }
 },
 "nbformat": 4,
 "nbformat_minor": 1
}
